{
 "cells": [
  {
   "cell_type": "markdown",
   "metadata": {},
   "source": [
    "In this (very) short blog post I will be discussing how we can use [Google's My Maps](https://www.google.com/maps/about/mymaps/) to draw a polygon on a map and export it. I will then show you how to load this exported map polygon into python and check if a given point lies within the polygon (a point-in-polygon calculation) calculation.\n",
    "\n",
    "This sort of thing can be incredibly useful if you are building any app/script that will pull latitude and longitude information from an API and make some decision based on that. An example of this would be scraping data from a property listings website, and generating alerts for properties which fall within an area you want to live."
   ]
  },
  {
   "cell_type": "markdown",
   "metadata": {},
   "source": [
    "# Create a map polygon using My Maps \n",
    "\n",
    "Before we get started with the Python side of things, we will begin by drawing a polygon on a map using [My Maps](https://www.google.com/maps/about/mymaps/). To Start we can use the \"draw a line\" option on the top left of the map to draw a basic rectangle around the area you want to draw your polygon on.\n",
    "\n",
    "![alt text](images/initial_rectangle.png \"Initial rectangle\")\n",
    "\n",
    "From here, you can use the white circles along the line to reshape the rectangle into a polygon of your choosing. In my example below I have drawn a polygon around an area surrounding Dublin City Centre.\n",
    "\n",
    "![alt text](images/final_polygon.png \"Final Polygon\")\n",
    "\n",
    "Once you are happy with your polygon you can export the map layer using the \"Export to KML/KMZ\" button.\n",
    "\n",
    "![alt text](images/show_export_button.png \"Export button\")\n",
    "\n",
    "Note: Be sure to check the \"export as KML instead of KMZ\" option when exporting your polygon layer.\n",
    "\n",
    "![alt text](images/export_as_kml.png \"Export button\")"
   ]
  },
  {
   "cell_type": "markdown",
   "metadata": {},
   "source": [
    "# Some installations "
   ]
  },
  {
   "cell_type": "markdown",
   "metadata": {},
   "source": [
    "Now that we have our map polygon created and saved locally, we are ready to get stuck into the coding side of things.\n",
    "\n",
    "Since we are dealing with geometric data, we will need to install some libraires to assist us with understanding the data, the first library we will need to install is [GDAL](https://gdal.org/). I will not cover the entire installation process for this library here, however instructions can be found for your operating system at the following locations: \n",
    "- [Windows/Linux](https://pypi.org/project/GDAL/) \n",
    "- [MacOS](https://medium.com/@vascofernandes_13322/how-to-install-gdal-on-macos-6a76fb5e24a4).\n",
    "\n",
    "Once GDAL is installed, you will also need to install the [osgeo](https://www.osgeo.org/) and [geotable](https://pypi.org/project/geotable/) packages  however these can be easily installed via pip."
   ]
  },
  {
   "cell_type": "code",
   "execution_count": 14,
   "metadata": {},
   "outputs": [],
   "source": [
    "#! pip3 install osgeo\n",
    "#! pip3 install geotable"
   ]
  },
  {
   "cell_type": "markdown",
   "metadata": {},
   "source": [
    "# Load our polygon from KML using Geotable \n",
    "\n",
    "Once we have the installs done, we can import our `.kml` file using the `geotable.load()` function. This will load the polgon shape data, as well as some metadata about our layer into a `GeoTable` object"
   ]
  },
  {
   "cell_type": "code",
   "execution_count": 5,
   "metadata": {},
   "outputs": [
    {
     "data": {
      "text/html": [
       "<div>\n",
       "<style scoped>\n",
       "    .dataframe tbody tr th:only-of-type {\n",
       "        vertical-align: middle;\n",
       "    }\n",
       "\n",
       "    .dataframe tbody tr th {\n",
       "        vertical-align: top;\n",
       "    }\n",
       "\n",
       "    .dataframe thead th {\n",
       "        text-align: right;\n",
       "    }\n",
       "</style>\n",
       "<table border=\"1\" class=\"dataframe\">\n",
       "  <thead>\n",
       "    <tr style=\"text-align: right;\">\n",
       "      <th></th>\n",
       "      <th>Name</th>\n",
       "      <th>Description</th>\n",
       "      <th>geometry_object</th>\n",
       "      <th>geometry_layer</th>\n",
       "      <th>geometry_proj4</th>\n",
       "    </tr>\n",
       "  </thead>\n",
       "  <tbody>\n",
       "    <tr>\n",
       "      <th>0</th>\n",
       "      <td>daft_polygon</td>\n",
       "      <td></td>\n",
       "      <td>POLYGON Z ((-6.2939628 53.3476165 0, -6.296902...</td>\n",
       "      <td>Untitled layer</td>\n",
       "      <td>+proj=longlat +datum=WGS84 +no_defs</td>\n",
       "    </tr>\n",
       "  </tbody>\n",
       "</table>\n",
       "</div>"
      ],
      "text/plain": [
       "           Name Description  \\\n",
       "0  daft_polygon               \n",
       "\n",
       "                                     geometry_object  geometry_layer  \\\n",
       "0  POLYGON Z ((-6.2939628 53.3476165 0, -6.296902...  Untitled layer   \n",
       "\n",
       "                        geometry_proj4  \n",
       "0  +proj=longlat +datum=WGS84 +no_defs  "
      ]
     },
     "execution_count": 5,
     "metadata": {},
     "output_type": "execute_result"
    }
   ],
   "source": [
    "import geotable\n",
    "t = geotable.load('map_polygon.kml')\n",
    "t"
   ]
  },
  {
   "cell_type": "markdown",
   "metadata": {},
   "source": [
    "From here we can use the `geometries` property of this object to access our polygon and render it nicely in Jupyter!"
   ]
  },
  {
   "cell_type": "code",
   "execution_count": 19,
   "metadata": {},
   "outputs": [
    {
     "data": {
      "image/svg+xml": [
       "<svg xmlns=\"http://www.w3.org/2000/svg\" xmlns:xlink=\"http://www.w3.org/1999/xlink\" width=\"100.0\" height=\"100.0\" viewBox=\"-6.299910968 53.308803731999994 0.08122593599999917 0.06433403600001242\" preserveAspectRatio=\"xMinYMin meet\"><g transform=\"matrix(1,0,0,-1,0,106.6819415)\"><path fill-rule=\"evenodd\" fill=\"#66cc99\" stroke=\"#555555\" stroke-width=\"0.0016245187199999834\" opacity=\"0.6\" d=\"M -6.2939628,53.3476165 L -6.2969026,53.3437989 L -6.2958082,53.338239 L -6.2902075,53.3355485 L -6.2902612,53.3336521 L -6.2891563,53.3323963 L -6.2837919,53.3269115 L -6.2816235,53.320862 L -6.2771926,53.3118121 L -6.2674411,53.3127609 L -6.2559193,53.3133895 L -6.2443098,53.3203752 L -6.2416059,53.3210961 L -6.2410481,53.3225348 L -6.2413057,53.3248098 L -6.2393969,53.3281931 L -6.2351689,53.3360865 L -6.2216934,53.3554039 L -6.2272475,53.3673595 L -6.2549511,53.3688646 L -6.2870105,53.3701294 L -6.2862819,53.3648474 L -6.2905312,53.3614092 L -6.2918617,53.3581085 L -6.292441,53.3569192 L -6.2923337,53.3560883 L -6.2934924,53.3558865 L -6.2929345,53.3553773 L -6.2939628,53.3476165 z\" /></g></svg>"
      ],
      "text/plain": [
       "<shapely.geometry.polygon.Polygon at 0x7fc491d129a0>"
      ]
     },
     "execution_count": 19,
     "metadata": {},
     "output_type": "execute_result"
    }
   ],
   "source": [
    "t.geometries[0]"
   ]
  },
  {
   "cell_type": "markdown",
   "metadata": {},
   "source": [
    "# Check point in polygon \n",
    "\n",
    "Now that we have our polygon loaded, we can perform some simple point-in-polygon calculations. To do this we will use the [shapely](https://pypi.org/project/Shapely/) library to create a `Point` object. From here we can use the `contains` method of our polygon to check if the point we passed in are inside our polygon.\n",
    "\n",
    "It's worth noting that when creating the `Point` object it expects the input in long, lat `(x, y)` format instead of lat, long `y, x` which is often returned when searching for coordinates."
   ]
  },
  {
   "cell_type": "code",
   "execution_count": 7,
   "metadata": {},
   "outputs": [],
   "source": [
    "#! pip3 install shapely"
   ]
  },
  {
   "cell_type": "code",
   "execution_count": 7,
   "metadata": {},
   "outputs": [
    {
     "name": "stdout",
     "output_type": "stream",
     "text": [
      "Dublin point in poly: True\n",
      "Meath point in poly: False\n"
     ]
    }
   ],
   "source": [
    "from shapely.geometry import Point\n",
    "sample_location_in_polygon = Point(-6.263387, 53.344357) # Dublin city\n",
    "sample_point_not_in_polygon = Point(-6.929850, 53.642509) # Random location in Meath\n",
    "\n",
    "print(f\"Dublin point in poly: {t.geometries[0].contains(sample_location_in_polygon)}\")\n",
    "print(f\"Meath point in poly: {t.geometries[0].contains(sample_point_not_in_polygon)}\")"
   ]
  }
 ],
 "metadata": {
  "kernelspec": {
   "display_name": "Python 3",
   "language": "python",
   "name": "python3"
  },
  "language_info": {
   "codemirror_mode": {
    "name": "ipython",
    "version": 3
   },
   "file_extension": ".py",
   "mimetype": "text/x-python",
   "name": "python",
   "nbconvert_exporter": "python",
   "pygments_lexer": "ipython3",
   "version": "3.8.7"
  },
  "toc": {
   "base_numbering": 1,
   "nav_menu": {},
   "number_sections": true,
   "sideBar": true,
   "skip_h1_title": false,
   "title_cell": "Table of Contents",
   "title_sidebar": "Contents",
   "toc_cell": false,
   "toc_position": {},
   "toc_section_display": true,
   "toc_window_display": false
  }
 },
 "nbformat": 4,
 "nbformat_minor": 2
}
